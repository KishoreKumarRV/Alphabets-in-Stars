{
 "cells": [
  {
   "cell_type": "markdown",
   "metadata": {},
   "source": [
    "# Alphabets in Stars\n",
    "\n",
    "How to Run this program Following Steps: ||\n",
    "Step 1-> Run all the Program (Click the Kernal -> Restart & Run all)... ||\n",
    "Step 2-> Then Type your Name(or Alphabets) in 1st Cell and press Enter...\n"
   ]
  },
  {
   "cell_type": "code",
   "execution_count": null,
   "metadata": {},
   "outputs": [],
   "source": [
    "import time\n",
    "def run(i):\n",
    "    try:\n",
    "        exec(i+'i()') # This code is used to Call the each alphabets...\n",
    "        print()\n",
    "    except:\n",
    "        print(\"Alphabets only allowed.......(Numbers and any other Strings not allowed in this program.....)\\n\")\n",
    "\n",
    "\n",
    "string=str(input(\"Enter your Name (Any Alphabets or Space)only : \\n\"))\n",
    "change_to_upper_string=string.upper() # Change the all Character in UPPERCASE\n",
    "for i in change_to_upper_string:\n",
    "    if i==\" \" or i==\".\":\n",
    "        print(\"\\n\\n\\n\")\n",
    "    else:\n",
    "        run(i)\n",
    "        time.sleep(0.3)"
   ]
  },
  {
   "cell_type": "markdown",
   "metadata": {},
   "source": [
    "# A to Z Alphabets in Below each Cells:"
   ]
  },
  {
   "cell_type": "code",
   "execution_count": null,
   "metadata": {},
   "outputs": [],
   "source": [
    "def Ai():\n",
    "    print()\n",
    "    for row in range (7):\n",
    "            for col in range(5):\n",
    "                if ((col==0 or col==4) and row!=0) or ((row==0 or row==3) and (col>0 and col<4)):\n",
    "                    print(\"*\",end=\" \")\n",
    "                else:\n",
    "                    print(end=\"  \")\n",
    "            print()"
   ]
  },
  {
   "cell_type": "code",
   "execution_count": null,
   "metadata": {},
   "outputs": [],
   "source": [
    "def Bi():\n",
    "    print()\n",
    "    for row in range(7):\n",
    "        for col in range(5):\n",
    "            if  (col==0) or (col==4 and (row!=0 and row!=3 and row!=6)) or ((row==0 or row==3 or row==6) and (col>0 and col<4)):\n",
    "                    print(\"*\",end=\" \")\n",
    "            else:\n",
    "                    print(end=\"  \")\n",
    "        print()\n"
   ]
  },
  {
   "cell_type": "code",
   "execution_count": null,
   "metadata": {},
   "outputs": [],
   "source": [
    "def Ci():\n",
    "    print()\n",
    "    for row in range(7):\n",
    "        for col in range(5):\n",
    "            if ((col==0) and (row!=0 and row!=6)) or ((col>0) and (row==0 or row==6)):\n",
    "                print(\"*\",end=\" \")\n",
    "            else:\n",
    "                print(end=\"  \")\n",
    "        print()"
   ]
  },
  {
   "cell_type": "code",
   "execution_count": null,
   "metadata": {},
   "outputs": [],
   "source": [
    "def Di():\n",
    "    print()\n",
    "    for row in range(7):\n",
    "        for col in range(5):\n",
    "            if  ((col==0) or (col==4) and (row!=0 and row!=6)) or  ((row==0 or row==6) and (col>0 and col<4)):\n",
    "                print(\"*\",end=\" \")\n",
    "            else:\n",
    "                print(end=\"  \")\n",
    "        print()"
   ]
  },
  {
   "cell_type": "code",
   "execution_count": null,
   "metadata": {},
   "outputs": [],
   "source": [
    "def Ei():\n",
    "   print()\n",
    "   for row in range(7):\n",
    "      for col in range(5):\n",
    "         if (col==0) or ((row==0 or row==3 or row==6) and (col>0)):\n",
    "            print(\"*\",end=\" \")\n",
    "         else:\n",
    "            print(end=\"  \")\n",
    "      print()"
   ]
  },
  {
   "cell_type": "code",
   "execution_count": null,
   "metadata": {},
   "outputs": [],
   "source": [
    "def Fi():\n",
    "   print()\n",
    "   for row in range(7):\n",
    "      for col in range(5):\n",
    "         if (col==0) or ((row==0 or row==3) and (col>0)):\n",
    "            print(\"*\",end=\" \")\n",
    "         else:\n",
    "            print(end=\"  \")\n",
    "      print()"
   ]
  },
  {
   "cell_type": "code",
   "execution_count": null,
   "metadata": {},
   "outputs": [],
   "source": [
    "def Gi():\n",
    "   print()\n",
    "   for row in range(7):\n",
    "      for col in range(6):\n",
    "         if (col==0) or ((col!=0 and col!=5) and (row==0 or row ==6)) or ((col>2) and (row==3)) or ((col==4) and (row==4 or row==5)):\n",
    "            print(\"*\",end=\" \")\n",
    "         else:\n",
    "            print(end=\"  \")\n",
    "      print()"
   ]
  },
  {
   "cell_type": "code",
   "execution_count": null,
   "metadata": {},
   "outputs": [],
   "source": [
    "def Hi():\n",
    "   print()\n",
    "   for row in range(7):\n",
    "      for col in range(5):\n",
    "         if (col==0 or col==4) or ((row==3) and (col>0 and col<4)):\n",
    "            print(\"*\",end=\" \")\n",
    "         else:\n",
    "            print(end=\"  \")\n",
    "      print()"
   ]
  },
  {
   "cell_type": "code",
   "execution_count": null,
   "metadata": {},
   "outputs": [],
   "source": [
    "def Ii():\n",
    "   print()\n",
    "   for row in range(7):\n",
    "      for col in range(5):\n",
    "         if (row==0 or row==6) or ((col==2) and (row!=0 and row!=6)):\n",
    "            print(\"*\",end=\" \")\n",
    "         else:\n",
    "            print(end=\"  \")\n",
    "      print()"
   ]
  },
  {
   "cell_type": "code",
   "execution_count": null,
   "metadata": {},
   "outputs": [],
   "source": [
    "def Ji():\n",
    "   print()\n",
    "   for row in range(7):\n",
    "      for col in range(5):\n",
    "         if (row==0) or (row==6 and col<3) or (col==2 and (row!=0 or row!=6)):\n",
    "            print(\"*\",end=\" \")\n",
    "         else:\n",
    "            print(end=\"  \")\n",
    "      print()"
   ]
  },
  {
   "cell_type": "code",
   "execution_count": null,
   "metadata": {},
   "outputs": [],
   "source": [
    "def Ki():\n",
    "   print()\n",
    "   i=0\n",
    "   j=4\n",
    "   for row in range(7):\n",
    "      for col in range(5):\n",
    "         if col==0 or (row==col+2 and col>1) :\n",
    "            print(\"*\",end=\" \")\n",
    "         elif (row==i and col==j):\n",
    "            print(\"*\",end=\" \")\n",
    "            i=i+1\n",
    "            j=j-1\n",
    "         else:\n",
    "            print(end=\"  \")\n",
    "      print()"
   ]
  },
  {
   "cell_type": "code",
   "execution_count": null,
   "metadata": {},
   "outputs": [],
   "source": [
    "def Li():\n",
    "   print()\n",
    "   for row in range(7):\n",
    "      for col in range(5):\n",
    "         if col==0 or (row==6 and col>0):\n",
    "            print(\"*\",end=\" \")\n",
    "         else:\n",
    "            print(end=\"  \")\n",
    "      print()"
   ]
  },
  {
   "cell_type": "code",
   "execution_count": null,
   "metadata": {},
   "outputs": [],
   "source": [
    "def Mi():\n",
    "   print()\n",
    "   i=1\n",
    "   j=5\n",
    "   for row in range(7):\n",
    "      for col in range(7):\n",
    "         if (col==0 or col==6) or ((col==row) and (col>0 and col<4)):\n",
    "            print(\"*\",end=\" \")\n",
    "         elif (col==j and row==i):\n",
    "            print(\"*\",end=\" \")\n",
    "            i=i+1\n",
    "            j=j-1\n",
    "         else:\n",
    "            print(end=\"  \")\n",
    "      print()"
   ]
  },
  {
   "cell_type": "code",
   "execution_count": null,
   "metadata": {},
   "outputs": [],
   "source": [
    "def Ni():\n",
    "   print()\n",
    "   for row in range(7):\n",
    "      for col in range(7):\n",
    "         if (col==0 or col==6) or (col==row):\n",
    "            print(\"*\",end=\" \")\n",
    "         else:\n",
    "            print(end=\"  \")\n",
    "      print()"
   ]
  },
  {
   "cell_type": "code",
   "execution_count": null,
   "metadata": {},
   "outputs": [],
   "source": [
    "def Oi():\n",
    "   print()\n",
    "   for row in range(7):\n",
    "      for col in range(5):\n",
    "         if (col==0 or col==4) or ((row==0 or row==6) and (col>0 and col<4)):\n",
    "            print(\"*\",end=\" \")\n",
    "         else:\n",
    "            print(end=\"  \")\n",
    "      print()"
   ]
  },
  {
   "cell_type": "code",
   "execution_count": null,
   "metadata": {},
   "outputs": [],
   "source": [
    "def Pi():\n",
    "   print()\n",
    "   for row in range(7):\n",
    "      for col in range(5):\n",
    "         if col==0 or (col==4 and row<4) or ((row==0 or row==3) and (col>0 and col<4)):\n",
    "            print(\"*\",end=\" \")\n",
    "         else:\n",
    "            print(end=\"  \")\n",
    "      print()"
   ]
  },
  {
   "cell_type": "code",
   "execution_count": null,
   "metadata": {},
   "outputs": [],
   "source": [
    "def Qi():\n",
    "   print()\n",
    "   for row in range(8):\n",
    "      for col in range(6):\n",
    "         if ((col==0 or col==4) and (row>0 and row<6)) or ((row==0 or row==6) and (col>0  and col<4)) or (row==5 and col==1) or (row==7 and col==3):\n",
    "            print(\"*\",end=\" \")\n",
    "         else:\n",
    "            print(end=\"  \")\n",
    "      print()"
   ]
  },
  {
   "cell_type": "code",
   "execution_count": null,
   "metadata": {},
   "outputs": [],
   "source": [
    "def Ri():\n",
    "   print()\n",
    "   for row in range(7):\n",
    "      for col in range(5):\n",
    "         if col==0 or ((row==0 or row==3) and (col>0 and col<4)) or (col==4 and row<4) or (row==col+2 and col>1):\n",
    "            print(\"*\",end=\" \")\n",
    "         else:\n",
    "            print(end=\"  \")\n",
    "      print()"
   ]
  },
  {
   "cell_type": "code",
   "execution_count": null,
   "metadata": {},
   "outputs": [],
   "source": [
    "def Si():\n",
    "   print()\n",
    "   for row in range(7):\n",
    "      for col in range(5):\n",
    "         if (row==0 or row==3 or row==6) or (col==0 and (row==1 or row==2)) or (col==4 and (row==4 or row==5)):\n",
    "            print(\"*\",end=\" \")\n",
    "         else:\n",
    "            print(end=\"  \")\n",
    "      print()"
   ]
  },
  {
   "cell_type": "code",
   "execution_count": null,
   "metadata": {},
   "outputs": [],
   "source": [
    "def Ti():\n",
    "   print()\n",
    "   for row in range(6):\n",
    "      for col in range(5):\n",
    "         if row==0 or col==2:\n",
    "            print(\"*\",end=\" \")\n",
    "         else:\n",
    "            print(end=\"  \")\n",
    "      print()"
   ]
  },
  {
   "cell_type": "code",
   "execution_count": null,
   "metadata": {},
   "outputs": [],
   "source": [
    "def Ui():\n",
    "   print()\n",
    "   for row in range(6):\n",
    "      for col in range(5):\n",
    "         if (row==5 and (col>0 and col<4)) or ((col==0 or col==4) and row!=5):\n",
    "            print(\"*\",end=\" \")\n",
    "         else:\n",
    "            print(end=\"  \")\n",
    "      print()"
   ]
  },
  {
   "cell_type": "code",
   "execution_count": null,
   "metadata": {},
   "outputs": [],
   "source": [
    "def Vi():\n",
    "   print()\n",
    "   i=0\n",
    "   j=6\n",
    "   for row in range(4):\n",
    "      for col in range(7):\n",
    "         if  (row==col):\n",
    "            print(\"*\",end=\" \")\n",
    "         elif (row==i and col==j):\n",
    "            print(\"*\",end=\" \")\n",
    "            i=i+1\n",
    "            j=j-1\n",
    "         else:\n",
    "            print(end=\"  \")\n",
    "      print()"
   ]
  },
  {
   "cell_type": "code",
   "execution_count": null,
   "metadata": {},
   "outputs": [],
   "source": [
    "def Wi():\n",
    "   print()\n",
    "   i=0\n",
    "   j=3\n",
    "   for row in range(4):\n",
    "      for col in range(7):\n",
    "         if  col==0 or col==6 or  (col==5 and row==2) or (col==4 and row==1) :\n",
    "           print(\"*\",end=\" \")\n",
    "         elif row==i and col==j:\n",
    "            print(\"*\",end=\" \")\n",
    "            i=i+1\n",
    "            j=j-1\n",
    "         else:\n",
    "            print(end=\"  \")\n",
    "      print()"
   ]
  },
  {
   "cell_type": "code",
   "execution_count": null,
   "metadata": {},
   "outputs": [],
   "source": [
    "def Xi():\n",
    "   print()\n",
    "   i=0\n",
    "   j=4\n",
    "   for row in range(5):\n",
    "      for col in range(5):\n",
    "         if row==i and col==j:\n",
    "            print(\"*\",end=\" \")\n",
    "            i=i+1\n",
    "            j=j-1\n",
    "         elif col==row:\n",
    "            print(\"*\",end=\" \")\n",
    "         else:\n",
    "            print(end=\"   \")\n",
    "      print()"
   ]
  },
  {
   "cell_type": "code",
   "execution_count": null,
   "metadata": {},
   "outputs": [],
   "source": [
    "def Yi():\n",
    "   print()\n",
    "   i=0\n",
    "   j=4\n",
    "   for row in range(5):\n",
    "      for col in range(5):\n",
    "         if (col==2 and row>2) or (col==row and row<3):\n",
    "            print(\"*\",end=\" \")\n",
    "         elif row==i and col==j:\n",
    "            print(\"*\",end=\" \")\n",
    "            i=i+1\n",
    "            j=j-1\n",
    "         else:\n",
    "            print(end=\"  \")\n",
    "      print()"
   ]
  },
  {
   "cell_type": "code",
   "execution_count": null,
   "metadata": {},
   "outputs": [],
   "source": [
    "def Zi():\n",
    "   print()\n",
    "   i=0\n",
    "   j=4\n",
    "   for row in range(5):\n",
    "      for col in range(5):\n",
    "         if row==i and col==j:\n",
    "            print(\"*\",end=\" \")\n",
    "            i=i+1\n",
    "            j=j-1\n",
    "         elif row==0 or row==4:\n",
    "            print(\"*\",end=\" \")\n",
    "         \n",
    "         else:\n",
    "            print(end=\"  \")\n",
    "      print()"
   ]
  }
 ],
 "metadata": {
  "kernelspec": {
   "display_name": "Python 3",
   "language": "python",
   "name": "python3"
  },
  "language_info": {
   "codemirror_mode": {
    "name": "ipython",
    "version": 3
   },
   "file_extension": ".py",
   "mimetype": "text/x-python",
   "name": "python",
   "nbconvert_exporter": "python",
   "pygments_lexer": "ipython3",
   "version": "3.8.3"
  }
 },
 "nbformat": 4,
 "nbformat_minor": 4
}
